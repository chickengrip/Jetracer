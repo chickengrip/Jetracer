{
 "cells": [
  {
   "cell_type": "code",
   "execution_count": 1,
   "id": "f0987e54",
   "metadata": {},
   "outputs": [],
   "source": [
    "import cv2\n",
    "import torch\n",
    "import numpy as np\n",
    "from PIL import Image\n",
    "from torch2trt import torch2trt\n",
    "\n",
    "from jetracer.nvidia_racecar import NvidiaRacecar\n",
    "from jetcam.csi_camera import CSICamera\n",
    "\n",
    "from utils import preprocess \n"
   ]
  },
  {
   "cell_type": "code",
   "execution_count": 2,
   "id": "db69b5df",
   "metadata": {},
   "outputs": [],
   "source": [
    "\n",
    "\n",
    "CLASSES = ['drive', 'stop']  \n",
    "device = torch.device('cuda')"
   ]
  },
  {
   "cell_type": "code",
   "execution_count": 4,
   "id": "ca29faf3",
   "metadata": {},
   "outputs": [],
   "source": [
    "# Road-following model\n",
    "import torchvision \n",
    "\n",
    "follow_model = torchvision.models.resnet18(pretrained=False)\n",
    "follow_model.fc = torch.nn.Linear(512, 2)\n",
    "follow_model = follow_model.to(device).eval().half()\n",
    "follow_model.load_state_dict(torch.load('road_following_model_11_6.pth'))\n",
    "\n",
    "# Classification model\n",
    "classification_model = torchvision.models.resnet18(pretrained=False)\n",
    "classification_model.fc = torch.nn.Linear(512, len(CLASSES))\n",
    "classification_model = classification_model.to(device).eval().half()\n",
    "classification_model.load_state_dict(torch.load('drive_stop_model_10_6.pth'))\n",
    "\n",
    "# TensorRT optimization\n",
    "dummy_input = torch.zeros((1, 3, 224, 224)).to(device).half()\n",
    "follow_model_trt = torch2trt(follow_model, [dummy_input], fp16_mode=True)\n",
    "classification_model_trt = torch2trt(classification_model, [dummy_input], fp16_mode=True)\n"
   ]
  },
  {
   "cell_type": "code",
   "execution_count": 12,
   "id": "2862712e",
   "metadata": {},
   "outputs": [],
   "source": [
    "torch.save(follow_model_trt.state_dict(), 'follow_model_trt.pth')\n",
    "torch.save(classification_model_trt.state_dict(), 'classification_model_trt_12_06.pth')"
   ]
  },
  {
   "cell_type": "code",
   "execution_count": 3,
   "id": "2771da56",
   "metadata": {},
   "outputs": [],
   "source": [
    "camera = CSICamera(width=224, height=224, capture_fps=30)\n",
    "car = NvidiaRacecar()\n"
   ]
  },
  {
   "cell_type": "code",
   "execution_count": 4,
   "id": "27bf2975",
   "metadata": {},
   "outputs": [
    {
     "data": {
      "text/plain": [
       "<All keys matched successfully>"
      ]
     },
     "execution_count": 4,
     "metadata": {},
     "output_type": "execute_result"
    }
   ],
   "source": [
    "# run when already optimized\n",
    "from torch2trt import TRTModule\n",
    "\n",
    "follow_model_trt = TRTModule()\n",
    "classification_model_trt = TRTModule()\n",
    "follow_model_trt.load_state_dict(torch.load('road_following_model_11_6trt.pth'))\n",
    "classification_model_trt.load_state_dict(torch.load('classification_model_trt_12_06.pth'))\n"
   ]
  },
  {
   "cell_type": "code",
   "execution_count": 5,
   "id": "d3fed19d",
   "metadata": {},
   "outputs": [],
   "source": [
    "def get_classification(image_tensor):\n",
    "    with torch.no_grad():\n",
    "        output = classification_model_trt(image_tensor)\n",
    "        pred_idx = torch.argmax(output, dim=1).item()\n",
    "        return CLASSES[pred_idx]\n"
   ]
  },
  {
   "cell_type": "code",
   "execution_count": 13,
   "id": "98c7e949",
   "metadata": {},
   "outputs": [
    {
     "data": {
      "application/vnd.jupyter.widget-view+json": {
       "model_id": "cded933a4a294c069d0fbefab721e111",
       "version_major": 2,
       "version_minor": 0
      },
      "text/plain": [
       "Image(value=b'', format='jpeg', height='224', width='224')"
      ]
     },
     "metadata": {},
     "output_type": "display_data"
    }
   ],
   "source": [
    "import ipywidgets\n",
    "from jetcam.utils import bgr8_to_jpeg\n",
    "import cv2\n",
    "\n",
    "# Create image widget\n",
    "prediction_widget = ipywidgets.Image(format='jpeg', width=camera.width, height=camera.height)\n",
    "display(prediction_widget)\n",
    "\n",
    "def update_display(image, output, decision):\n",
    "    # output: numpy array from follow_model_trt\n",
    "    x = float(output[0])\n",
    "    y = float(output[1]) if len(output) > 1 else 0.5  # Use y if your model predicts it, else center\n",
    "\n",
    "    # Convert normalized coordinates to pixel positions\n",
    "    cx = int(camera.width * (x / 2.0 + 0.5))\n",
    "    cy = int(camera.height * (y / 2.0 + 0.5))\n",
    "\n",
    "    img_with_circle = image.copy()\n",
    "    img_with_circle = cv2.circle(img_with_circle, (cx, cy), 8, (255, 0, 0), 3)\n",
    "    cv2.putText(img_with_circle, decision, (10, 30), cv2.FONT_HERSHEY_SIMPLEX, 1, (0,255,0), 2)\n",
    "    prediction_widget.value = bgr8_to_jpeg(img_with_circle)"
   ]
  },
  {
   "cell_type": "code",
   "execution_count": 16,
   "id": "f415177b",
   "metadata": {},
   "outputs": [],
   "source": [
    "STEERING_GAIN = 0.9\n",
    "STEERING_BIAS = 0.05\n",
    "THROTTLE = 0.115"
   ]
  },
  {
   "cell_type": "code",
   "execution_count": 17,
   "id": "a1b0fb76",
   "metadata": {},
   "outputs": [
    {
     "name": "stdout",
     "output_type": "stream",
     "text": [
      "Stopped by user\n"
     ]
    }
   ],
   "source": [
    "import time\n",
    "\n",
    "try:\n",
    "    while True:\n",
    "        raw_image = camera.read()\n",
    "        preprocessed = preprocess(raw_image).half().unsqueeze(0).to(device)\n",
    "\n",
    "        # Run both models on the same preprocessed image\n",
    "        decision = get_classification(preprocessed)\n",
    "        output = follow_model_trt(preprocessed).cpu().numpy().flatten()\n",
    "\n",
    "        if decision == \"drive\":\n",
    "            car.steering = float(output[0]) * STEERING_GAIN + STEERING_BIAS\n",
    "            car.throttle = THROTTLE\n",
    "        else:\n",
    "            # If stopped, set output to default for display\n",
    "            output = np.array([0.0, 0.5])\n",
    "            car.throttle = 0.0\n",
    "            car.steering = 0.0\n",
    "\n",
    "        update_display(raw_image, output, decision)\n",
    "\n",
    "        time.sleep(0.05)\n",
    "\n",
    "except KeyboardInterrupt:\n",
    "    car.throttle = 0\n",
    "    car.steering = 0\n",
    "    print(\"Stopped by user\")"
   ]
  },
  {
   "cell_type": "code",
   "execution_count": 9,
   "id": "191c74cb",
   "metadata": {},
   "outputs": [
    {
     "data": {
      "application/vnd.jupyter.widget-view+json": {
       "model_id": "74cf7150b0c042998e1cf396335db717",
       "version_major": 2,
       "version_minor": 0
      },
      "text/plain": [
       "ToggleButtons(description='State:', options=('stop', 'live'), value='stop')"
      ]
     },
     "metadata": {},
     "output_type": "display_data"
    }
   ],
   "source": [
    "import ipywidgets as widgets\n",
    "from IPython.display import display\n",
    "\n",
    "state_widget = widgets.ToggleButtons(options=['stop', 'live'], description='State:', value='stop')\n",
    "display(state_widget)\n"
   ]
  },
  {
   "cell_type": "code",
   "execution_count": null,
   "id": "771fb1af",
   "metadata": {},
   "outputs": [],
   "source": []
  }
 ],
 "metadata": {
  "kernelspec": {
   "display_name": "Python 3",
   "language": "python",
   "name": "python3"
  },
  "language_info": {
   "codemirror_mode": {
    "name": "ipython",
    "version": 3
   },
   "file_extension": ".py",
   "mimetype": "text/x-python",
   "name": "python",
   "nbconvert_exporter": "python",
   "pygments_lexer": "ipython3",
   "version": "3.6.9"
  }
 },
 "nbformat": 4,
 "nbformat_minor": 5
}
